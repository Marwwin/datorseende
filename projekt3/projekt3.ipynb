{
 "metadata": {
  "language_info": {
   "codemirror_mode": {
    "name": "ipython",
    "version": 3
   },
   "file_extension": ".py",
   "mimetype": "text/x-python",
   "name": "python",
   "nbconvert_exporter": "python",
   "pygments_lexer": "ipython3",
   "version": "3.8.5-final"
  },
  "orig_nbformat": 2,
  "kernelspec": {
   "name": "python3",
   "display_name": "Python 3",
   "language": "python"
  }
 },
 "nbformat": 4,
 "nbformat_minor": 2,
 "cells": [
  {
   "source": [
    "## Datorseende projekt 3 Markus Kankkonen\n"
   ],
   "cell_type": "markdown",
   "metadata": {}
  },
  {
   "source": [
    "## Uppgift 1\n",
    "- Low Pass filter\n",
    "- Jag kör en algoritm som applicerar ett low pass filter på bilden x3 efter varje filtrering sparas bilden som en .jpg\n"
   ],
   "cell_type": "markdown",
   "metadata": {}
  },
  {
   "cell_type": "code",
   "execution_count": 42,
   "metadata": {},
   "outputs": [],
   "source": [
    "import cv2\n",
    "import numpy as np\n",
    "import copy\n",
    "\n",
    "# Get file\n",
    "img = cv2.imread(\"LP_filter-candidate.jpg\")\n",
    "depth = -1\n",
    "kernel = np.matrix([[1.0,1.0,1.0],\n",
    "                                 [1.0,2.0,1.0],\n",
    "                                 [1.0,1.0,1.0]]) /10\n",
    "\n",
    "filteredImg = copy.deepcopy(img)\n",
    "orig_img_text = cv2.putText(img,\"Original\",(20,40),cv2.FONT_HERSHEY_SIMPLEX,1,(0,0,250),2)\n",
    "for i in range(1,5):\n",
    "    filteredImg = cv2.filter2D(filteredImg,depth,kernel)\n",
    "    text = \"LPF x\"+str(i) \n",
    "    text_img = copy.deepcopy(filteredImg)\n",
    "    text_img = cv2.putText(text_img,text,(20,40),cv2.FONT_HERSHEY_SIMPLEX,1,(0,0,250),2)\n",
    "    joinedImgs = np.hstack((orig_img_text,text_img))   \n",
    "    cv2.imshow(\"main\",joinedImgs)\n",
    "    cv2.imwrite(\"LP_filter_candidate_blur_\"+str(i)+\".jpg\",joinedImgs )\n",
    "    cv2.waitKey(0)\n",
    "cv2.destroyAllWindows()"
   ]
  },
  {
   "source": [
    "![upg1](LP_filter_candidate_blur_1.jpg)"
   ],
   "cell_type": "markdown",
   "metadata": {}
  },
  {
   "source": [
    "![upg1](LP_filter_candidate_blur_2.jpg)\n"
   ],
   "cell_type": "markdown",
   "metadata": {}
  },
  {
   "source": [
    "![upg1](LP_filter_candidate_blur_3.jpg)\n"
   ],
   "cell_type": "markdown",
   "metadata": {}
  },
  {
   "source": [
    "![upg1](LP_filter_candidate_blur_4.jpg)\n"
   ],
   "cell_type": "markdown",
   "metadata": {}
  },
  {
   "source": [
    "## Uppgift 2\n",
    "- High Pass Filter\n",
    "- Samma funktion som för low pass filtret. Men Kerneln är annorlunda."
   ],
   "cell_type": "markdown",
   "metadata": {}
  },
  {
   "cell_type": "code",
   "execution_count": 37,
   "metadata": {},
   "outputs": [],
   "source": [
    "import cv2\n",
    "import numpy as np\n",
    "import copy\n",
    "\n",
    "# Get file\n",
    "img = cv2.imread(\"High-Contrast.jpg\")\n",
    "depth = -1\n",
    "kernel = np.matrix([[-1.0,-1.0,-1.0],\n",
    "                                 [-1.0,9.0,-1.0],\n",
    "                                 [-1.0,-1.0,-1.0]]) *1\n",
    "\n",
    "filteredImg = copy.deepcopy(img)\n",
    "orig_img_text = cv2.putText(img,\"Original\",(20,40),cv2.FONT_HERSHEY_SIMPLEX,1,(0,0,250),2)\n",
    "for i in range(1,4):\n",
    "    filteredImg = cv2.filter2D(filteredImg,depth,kernel)\n",
    "    text = \"HPF x\"+str(i) \n",
    "    text_img = copy.deepcopy(filteredImg)\n",
    "    text_img = cv2.putText(text_img,text,(20,40),cv2.FONT_HERSHEY_SIMPLEX,1,(0,0,250),2)\n",
    "    joinedImgs = np.hstack((orig_img_text,text_img))   \n",
    "    cv2.imshow(\"main\",joinedImgs)\n",
    "    cv2.imwrite(\"High-Contrast-HP-Filter\"+str(i)+\".jpg\",joinedImgs)\n",
    "    cv2.waitKey(0)\n",
    "cv2.destroyAllWindows()"
   ]
  },
  {
   "source": [
    "![upg1](High-Contrast-HP-Filter1.jpg)"
   ],
   "cell_type": "markdown",
   "metadata": {}
  },
  {
   "source": [
    "![upg1](High-Contrast-HP-Filter2.jpg)"
   ],
   "cell_type": "markdown",
   "metadata": {}
  },
  {
   "source": [
    "![upg1](High-Contrast-HP-Filter3.jpg)"
   ],
   "cell_type": "markdown",
   "metadata": {}
  },
  {
   "source": [
    "## Uppgift 3\n",
    "- Gaussian Blur\n",
    "- Samma funktion som tidigare denna gång används ndimage.gaussian_filter istället för någon självskriven kernel \n",
    "- Testade olika sigma värden 0.5 kändes som ett bra alternativ, inte för radikal."
   ],
   "cell_type": "markdown",
   "metadata": {}
  },
  {
   "cell_type": "code",
   "execution_count": 34,
   "metadata": {},
   "outputs": [],
   "source": [
    "import cv2\n",
    "import numpy as np\n",
    "import scipy.ndimage as ndimage\n",
    "import copy\n",
    "\n",
    "# Get file\n",
    "img = cv2.imread(\"LP_filter-candidate.jpg\")\n",
    "#cv2.imshow(\"main\",img)\n",
    "#cv2.waitKey(0)\n",
    "filteredImg = copy.deepcopy(img)\n",
    "orig_img_text = cv2.putText(img,\"Original\",(20,40),cv2.FONT_HERSHEY_SIMPLEX,1,(0,0,250),2)\n",
    "for i in range(1,5):\n",
    "    filteredImg = ndimage.gaussian_filter(filteredImg, sigma=0.7)\n",
    "    text = \"Gaussian LPF x\"+str(i) \n",
    "    text_img = copy.deepcopy(filteredImg)\n",
    "    text_img = cv2.putText(text_img,text,(20,40),cv2.FONT_HERSHEY_SIMPLEX,1,(0,0,250),2)\n",
    "    joinedImgs = np.hstack((orig_img_text,text_img))   \n",
    "    cv2.imshow(\"main\",joinedImgs)\n",
    "    cv2.imwrite(\"LP_filter-candidate_Gaussian_\"+str(i)+\".jpg\",joinedImgs)\n",
    "    cv2.waitKey(0)\n",
    "cv2.destroyAllWindows()"
   ]
  },
  {
   "source": [
    "\n",
    "![upg1](LP_filter-candidate_Gaussian_1.jpg)"
   ],
   "cell_type": "markdown",
   "metadata": {}
  },
  {
   "source": [
    "\n",
    "![upg1](LP_filter-candidate_Gaussian_2.jpg)"
   ],
   "cell_type": "markdown",
   "metadata": {}
  },
  {
   "source": [
    "\n",
    "![upg1](LP_filter-candidate_Gaussian_3.jpg)\n"
   ],
   "cell_type": "markdown",
   "metadata": {}
  },
  {
   "source": [
    "\n",
    "![upg1](LP_filter-candidate_Gaussian_4.jpg)"
   ],
   "cell_type": "markdown",
   "metadata": {}
  },
  {
   "source": [
    "## Uppgift 4\n",
    "- Ett low pass filter kan användas för att göra bilden \"smoothare\". Vilket kan t.ex. vara användbart om det finns en del noise på bilden som man vill bli av med. \n",
    "    - Vårat LP filter är ganska våldsamt redan efter 2 filtreringar börjar konturerna och linjer försvinna.\n",
    "    \n",
    "- Ett high pass filter kan användas om man vill få bättre skärpa på bilden. Framhäva linjer och kanter. Detta kan vara användbart tex. vid scanning av text för att lättare kunna läsa av texten genom att göra konturerna skarpare.\n",
    "    - När jag försökte köra HP filtret flera gånger så blev bilden helt förvrängd redan vid andra filtreringen. \n",
    "    - Enligt mitt tycke var den kanske lite för aggressivt redan efter den första filtreringen.\n",
    "- Gaussian low pass fungerar som ett low pass filter men linjer och konturer blir inte för diffusa. I mitt tycke fungerar Gaussian LP filtret mycket bättre än en vårat low pass filter i upg. 1. Med ett sigma värde av 0.5 tycker jag filtret fungerar bra, i och med att den gör små ändringar så man kan iterera sig igenom flera varianter tills man hittar en passlig bild.\n",
    "\n",
    "- För bilden \"LP_filter-candidate.jpg\" skulle jag definitivt använda Gaussian LPF, med sigma värdet 0.5 och köra filtrering 2 eller 3 gånger. LP filtret i upg 1 tycker jag gjorde bilden lite för suddig redan efter 1 filtrering.\n",
    "\n"
   ],
   "cell_type": "markdown",
   "metadata": {}
  },
  {
   "source": [
    "## Uppgift 5\n",
    "\n",
    "- Vi använder en median filtering mask med storlek 3x3 och 7x7 pixlar"
   ],
   "cell_type": "markdown",
   "metadata": {}
  },
  {
   "cell_type": "code",
   "execution_count": 35,
   "metadata": {},
   "outputs": [],
   "source": [
    "\n",
    "\n",
    "for imgN in range(1,5):\n",
    "    img = cv2.imread(\"Picture\"+str(imgN)+\"_median_filtering.jpg\")\n",
    "    filteredImg = img\n",
    "    stack = []\n",
    "    for i in [3,7]: \n",
    "        filteredImg = cv2.medianBlur(img, i)\n",
    "        text = str(i)+\"x\"+str(i)\n",
    "        text_img = cv2.putText(filteredImg,text,(20,40),cv2.FONT_HERSHEY_SIMPLEX,1,(0,0,250),2)\n",
    "        stack.append(text_img)\n",
    "    orig_img_text = cv2.putText(img,\"Original\",(20,40),cv2.FONT_HERSHEY_SIMPLEX,1,(0,0,250),2)\n",
    "    joinedImgs = np.hstack((orig_img_text,stack[0],stack[1]))   \n",
    "    cv2.imshow(\"main\",joinedImgs)\n",
    "    cv2.imwrite(\"Median_filtering\"+str(imgN)+\".jpg\",joinedImgs)\n",
    "    cv2.waitKey(0)\n",
    "cv2.destroyAllWindows()"
   ]
  },
  {
   "source": [
    "### Bild 1\n",
    "\n",
    "- Här fungerar 7x7 bättre än 3x3 man ser att det lämnar en del noise kvar efter 3x3. \n",
    "- Dock faller skärpan lite på 7x7 men den ser nog bättre ut utan noise\n",
    "\n",
    "![Median_Filtering](Median_filtering1.jpg)\n",
    "\n",
    "\n"
   ],
   "cell_type": "markdown",
   "metadata": {}
  },
  {
   "source": [
    "### Bild 2\n",
    "\n",
    "- Här tycker jag 3x3 blir ett bättre resultat, även om det finns lite noise kvar, för 7x7 blir redan allt för suddigt.\n",
    "\n",
    "![Median_Filtering](Median_filtering2.jpg)\n",
    "\n"
   ],
   "cell_type": "markdown",
   "metadata": {}
  },
  {
   "source": [
    "### Bild 3\n",
    "\n",
    "- Här är också 3x3 bättre än 7x7. Allt noise är redan borta efter 3x3, och bilden hålls relativt skarp\n",
    "\n",
    "![Median_Filtering](Median_filtering3.jpg)\n"
   ],
   "cell_type": "markdown",
   "metadata": {}
  },
  {
   "source": [
    "### Bild 4\n",
    "\n",
    "- Här fungerar 7x7 bättre för 3x3 innehåller ännu en hel del noise. Skärpan på myntet försvinner tyvärr dock nästan helt på 7x7\n",
    "\n",
    "![Median_Filtering](Median_filtering4.jpg)"
   ],
   "cell_type": "markdown",
   "metadata": {}
  },
  {
   "source": [
    "### Uppgift 6\n",
    "\n",
    "- Här testar vi en median filtrering mask med storlek 11x11 pixlar\n",
    "- I alla exempel tycker jag att 11x11 känns lite för radikalt för bilder av denna storlek. Med större bilder kan det vara att 11x11 skulle fungera bättre.\n",
    "- Jag medger att ja var lite lat med min kod denna gång och bara kopierade min algorithm flera gånger istället för att tex. göra en funktion av det hela."
   ],
   "cell_type": "markdown",
   "metadata": {}
  },
  {
   "cell_type": "code",
   "execution_count": 36,
   "metadata": {},
   "outputs": [],
   "source": [
    "for imgN in range(1,5):\n",
    "    img = cv2.imread(\"Picture\"+str(imgN)+\"_median_filtering.jpg\")\n",
    "    filteredImg = img\n",
    "    stack = []\n",
    "    for i in [11]: \n",
    "        filteredImg = cv2.medianBlur(img, i)\n",
    "        text = str(i)+\"x\"+str(i)\n",
    "        text_img = cv2.putText(filteredImg,text,(20,40),cv2.FONT_HERSHEY_SIMPLEX,1,(0,0,250),2)\n",
    "        stack.append(text_img)\n",
    "    orig_img_text = cv2.putText(img,\"Original\",(20,40),cv2.FONT_HERSHEY_SIMPLEX,1,(0,0,250),2)\n",
    "    joinedImgs = np.hstack((orig_img_text,stack[0]))   \n",
    "    cv2.imshow(\"main\",joinedImgs)\n",
    "    cv2.imwrite(\"Median_filtering\"+str(imgN)+\"_11.jpg\",joinedImgs)\n",
    "    cv2.waitKey(0)\n",
    "cv2.destroyAllWindows()"
   ]
  },
  {
   "source": [
    "### Bild 1\n",
    "\n",
    "- Filtrering tar bort all noise men det finns inte mycket detaljer kvar på blomman.\n",
    "- Men jag tycker det blir artistisgt sätt ett ganska snyggt resultat\n",
    "\n",
    "![Median_Filtering](Median_filtering1_11.jpg)\n",
    "\n"
   ],
   "cell_type": "markdown",
   "metadata": {}
  },
  {
   "source": [
    "### Bild 2\n",
    "\n",
    "- Overkill.\n",
    "\n",
    "![Median_Filtering](Median_filtering2_11.jpg)\n"
   ],
   "cell_type": "markdown",
   "metadata": {}
  },
  {
   "source": [
    "### Bild 3\n",
    "\n",
    "- Snyggt resultat inget noise. Skärpan finns inte mera men liksom ex.1 tror jag att den mörka en nästan enfärgade bakgrunden gör mycket\n",
    "\n",
    "![Median_Filtering](Median_filtering3_11.jpg)\n"
   ],
   "cell_type": "markdown",
   "metadata": {}
  },
  {
   "source": [
    "### Bild 4\n",
    "\n",
    "- Bakgrund är ju nog jämn och vit, men det finns inte mycket kvar at myntens detaljer.\n",
    "\n",
    "![Median_Filtering](Median_filtering4_11.jpg)\n"
   ],
   "cell_type": "markdown",
   "metadata": {}
  }
 ]
}