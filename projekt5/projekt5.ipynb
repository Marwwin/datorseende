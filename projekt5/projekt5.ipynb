{
 "metadata": {
  "language_info": {
   "codemirror_mode": {
    "name": "ipython",
    "version": 3
   },
   "file_extension": ".py",
   "mimetype": "text/x-python",
   "name": "python",
   "nbconvert_exporter": "python",
   "pygments_lexer": "ipython3",
   "version": "3.8.5"
  },
  "orig_nbformat": 2,
  "kernelspec": {
   "name": "python3",
   "display_name": "Python 3",
   "language": "python"
  }
 },
 "nbformat": 4,
 "nbformat_minor": 2,
 "cells": [
  {
   "source": [
    "# Projekt 5 Markus Kankkonen\n"
   ],
   "cell_type": "markdown",
   "metadata": {}
  },
  {
   "source": [
    "### Uppgift 1\n",
    "- Vi börjar med att skapa nödvändiga funktioner.\n",
    "- showImage visar en bild med optional text och textcolor parametrar\n",
    "- cornerHarris kör bilden genom cv2s cornerHarris funktion"
   ],
   "cell_type": "markdown",
   "metadata": {}
  },
  {
   "cell_type": "code",
   "execution_count": 10,
   "metadata": {},
   "outputs": [],
   "source": [
    "import cv2 \n",
    "import numpy as np\n",
    "import copy\n",
    "\n",
    "def showImage(image,text=\"\",text_color=(0,0,250)):\n",
    "    text_img = copy.deepcopy(image)\n",
    "    text_img = cv2.putText(text_img,text,(20,40),cv2.FONT_HERSHEY_SIMPLEX,1,text_color,2)\n",
    "    cv2.namedWindow(\"main\", cv2.WINDOW_NORMAL)\n",
    "    #cv2.resizeWindow('image', 900, 450) \n",
    "    cv2.imshow(\"main\",text_img)\n",
    "    cv2.waitKey(0)\n",
    "    cv2.waitKey(0)\n",
    "    cv2.waitKey(0)\n",
    "    cv2.destroyAllWindows()\n",
    "\n",
    "def cornerHarris(image,thresh=200,blockSize=2,ksize=3,k=0.04):\n",
    "    gray = cv2.cvtColor(image, cv2.COLOR_BGR2GRAY)\n",
    "    # cornerharris funktionen\n",
    "    img_ch = cv2.cornerHarris(gray,blockSize,ksize,k)\n",
    "    # Vi skapar en tom lista av samma shape som vårt resultat från cornerharris\n",
    "    img_ch_norm = np.zeros(img_ch.shape, dtype=np.float32)\n",
    "\n",
    "    # Vi Normaliserar våra värden mellan 0,255\n",
    "    img_ch_norm = cv2.normalize(img_ch, img_ch_norm, alpha=0, beta=255, norm_type=cv2.NORM_MINMAX)\n",
    "\n",
    "    # convertScaleAbs skalar våran lista och converterar till 8-bit int\n",
    "    img_ch_norm = cv2.convertScaleAbs(img_ch_norm)\n",
    "    # vi gör en kopia på listan som vi sedan ritar in våra cirklar i \n",
    "    result_ch = copy.deepcopy(img_ch_norm)\n",
    "    result = copy.deepcopy(image)\n",
    "    # Här söker vi efter värden på våran bild som är större än våran threshold och där ritar vi en cirkel.\n",
    "    for i in range(img_ch_norm.shape[0]):\n",
    "        for j in range(img_ch_norm.shape[1]):\n",
    "            if int(img_ch_norm[i,j]) > thresh:\n",
    "                cv2.circle(result, (j,i), 5, (0,0,255), 2)\n",
    "                cv2.circle(result_ch, (j,i), 5, (0,0,255), 2)\n",
    "\n",
    "    #showImage(img_ch_norm_scaled)\n",
    "    return result, result_ch"
   ]
  },
  {
   "source": [
    "- Vi läser in våran bild"
   ],
   "cell_type": "markdown",
   "metadata": {}
  },
  {
   "cell_type": "code",
   "execution_count": 28,
   "metadata": {},
   "outputs": [],
   "source": [
    "image = cv2.imread(\"house.jpg\")\n",
    "res1, res2 = cornerHarris(image,101,6,5,0.0561)\n",
    "joined_img = np.hstack((image,res1))\n",
    "showImage(joined_img)"
   ]
  },
  {
   "source": [
    "- Det visade sig vara väldigt svårt att få en perfekt bild enligt min åsikt. Men problemet kan vara att jag inte direkt vet vad jag söker efter utan bara testar mig fram\n",
    "- Jag får sådana bilder som har alltför mycket prickar eller så sådana som har helt ändast de största edges som finns i bilden, oftast om den hittar en corner så blir känner den igen flera corners direkt i närheten så cirklarna blir klumppade ihop.\n",
    "- Jag har inkluderat 3 exempel på samma bild en mera våldsam corner detection, och en mera konservativ och en mitt emellan :)\n",
    "\n"
   ],
   "cell_type": "markdown",
   "metadata": {}
  },
  {
   "source": [
    "## Easy\n",
    "\n",
    "![result corner harris](house_result.png)"
   ],
   "cell_type": "markdown",
   "metadata": {}
  },
  {
   "source": [
    "\n",
    "## Medium\n",
    "\n",
    "![house result corner](house_result_2.png)"
   ],
   "cell_type": "markdown",
   "metadata": {}
  },
  {
   "source": [
    "## Extreme\n",
    "\n",
    "![house result corner](house_result_3.png)"
   ],
   "cell_type": "markdown",
   "metadata": {}
  },
  {
   "source": [
    "### Uppgift 2\n",
    "- Vi använder cv2.ORB för att hitta matchande egenskaper."
   ],
   "cell_type": "markdown",
   "metadata": {}
  },
  {
   "cell_type": "code",
   "execution_count": 101,
   "metadata": {},
   "outputs": [],
   "source": [
    "# Vi läser in våra bilder\n",
    "img1 = cv2.imread(\"cat.jpg\",0)\n",
    "img2 = cv2.imread(\"match.jpeg\",0)"
   ]
  },
  {
   "cell_type": "code",
   "execution_count": 102,
   "metadata": {},
   "outputs": [],
   "source": [
    "# Vi skapar en Orb instans\n",
    "orb = cv2.ORB_create()\n",
    "# Vi söker efter så säga keypoints och descriptors i bilderna \n",
    "kp1, des1 = orb.detectAndCompute(img1,None)\n",
    "kp2, des2 = orb.detectAndCompute(img2,None)"
   ]
  },
  {
   "cell_type": "code",
   "execution_count": 103,
   "metadata": {},
   "outputs": [],
   "source": [
    "# Matchern försöker slå ihop matchande keypoints i båda bilderna.\n",
    "matcher = cv2.BFMatcher(cv2.NORM_HAMMING, crossCheck=True)\n",
    "matches = matcher.match(des1,des2) \n",
    "# Sortera bilderna enligt distance desto kortare desto bättre.\n",
    "matches = sorted(matches, key = lambda x:x.distance,reverse=False)\n",
    "# Rita ut våra matches och spara den nya bilden tillen array.\n",
    "img3 = cv2.drawMatches(img1,kp1,img2,kp2,matches,None,flags=cv2.DrawMatchesFlags_NOT_DRAW_SINGLE_POINTS)\n",
    "\n",
    "showImage(img3)"
   ]
  },
  {
   "source": [
    "## De 30 resultat som har kortaste distance \n",
    "\n",
    "![resultat](matching_result_2.png)"
   ],
   "cell_type": "markdown",
   "metadata": {}
  },
  {
   "source": [
    "## De 30 resultat som har längst distance \n",
    "\n",
    "![resultat](matching_result.png)"
   ],
   "cell_type": "markdown",
   "metadata": {}
  },
  {
   "source": [
    "## Alla resultat\n",
    "\n",
    "![resultat](matching_result_3.png)"
   ],
   "cell_type": "markdown",
   "metadata": {}
  },
  {
   "source": [
    "- Som man ser från bilderna så var de 30 matches med längst distans alla på rätt objekt. \n",
    "- Detta tycket jag mig hända på flera av de bilder jag testade. \n",
    "- Det stora problemet känns det som att ORBen bara tar så små egenskaper som den sen matchar med vad som helst. Om man börjar zooma in på bilden så märker man att många sträck inte går till exakt rätt punkt, dvs. flera punkter på nån bokstav från tändsticks paketet matchas med en annan punkt med liknande features på en annan bokstav\n"
   ],
   "cell_type": "markdown",
   "metadata": {}
  },
  {
   "source": [
    "### Uppgift 3\n",
    "\n",
    "- Vi gör ett program som kan hitta och skilja på trianglar, rektanglar, pentagoner, hexagoner och septagoner\n"
   ],
   "cell_type": "markdown",
   "metadata": {}
  },
  {
   "cell_type": "code",
   "execution_count": 63,
   "metadata": {},
   "outputs": [],
   "source": [
    "def findShapes(contours,image):\n",
    "    print(len(contours))\n",
    "    for i,elem in enumerate(contours):\n",
    "        # räkn ut omkrets för våran symbol\n",
    "        perimeter = cv2.arcLength(elem,True)\n",
    "        # epsilon värde, Lekte runt en stund med denna parameter också 0.05 verkade bra. \n",
    "        epsilon = 0.05*perimeter\n",
    "        # räkna ut var punkterna ligger\n",
    "        approxC = cv2.approxPolyDP(elem,epsilon,True)\n",
    "        text = \"\"\n",
    "        # Ta x, y för den punk som ligger högst uppe, längst till vänster\n",
    "        # Samt bredd och höjd för hela figuren\n",
    "        x,y,w,h = cv2.boundingRect(elem)\n",
    "        # Beroende på hur många punkter symbolen har ange den ett namn.\n",
    "        if (len(approxC) == 3):\n",
    "            text = \"triangle\"\n",
    "        elif (len(approxC) == 4):\n",
    "            # hitta skillnader mellan kvadrat och rektangel\n",
    "            if (w / h <= 1.1 and w / h >= 0.9):\n",
    "                text = \"square\"\n",
    "            else: \n",
    "                text = \"rectangle\" \n",
    "        elif (len(approxC) == 5):\n",
    "            text = \"pentagon\"\n",
    "        elif (len(approxC) == 6):\n",
    "            text = \"hexagon\"\n",
    "        elif (len(approxC) == 7):\n",
    "            text = \"septagon\"   \n",
    "        else:\n",
    "            text = str(len(approxC))\n",
    "        # Sätt in texten på bilden.  \n",
    "        cv2.putText(image,text,(x-20,y-10),cv2.FONT_HERSHEY_SIMPLEX,1.5,(0,0,0),2)\n",
    "\n",
    "\n"
   ]
  },
  {
   "cell_type": "code",
   "execution_count": 64,
   "metadata": {},
   "outputs": [
    {
     "output_type": "stream",
     "name": "stdout",
     "text": [
      "11\n"
     ]
    }
   ],
   "source": [
    "image = cv2.imread(\"shape2.png\")\n",
    "gray = cv2.cvtColor(image, cv2.COLOR_BGR2GRAY)\n",
    "\n",
    "img_shape = copy.deepcopy(image)\n",
    "# Vi tar thresholden på vår bild\n",
    "ret, thresh = cv2.threshold(image, 240, 255, cv2.THRESH_BINARY)\n",
    "# Vi använder Canny för att bättre få fram konturerna utan hittar den inte symbolerna lika lätt\n",
    "filtered = cv2.Canny(thresh,200,300,3)\n",
    "# findCountours söker efter konturerna för oss\n",
    "contours, _ = cv2.findContours(filtered, cv2.RETR_TREE, cv2.CHAIN_APPROX_SIMPLE)\n",
    "\n",
    "findShapes(contours,image)\n",
    "\n",
    "\n",
    "# sett våran input bild samt ouputten från våran algoritm brevid varandra.\n",
    "joined_img = np.hstack((img_shape,cv2.drawContours(image, contours, -1, (0,255,255), 2)))\n",
    "showImage(joined_img)"
   ]
  },
  {
   "source": [
    "### Input till vänster, output till höger\n",
    "![resultat](shape_result.png)"
   ],
   "cell_type": "markdown",
   "metadata": {}
  },
  {
   "source": [
    "- Det tog en stund att förstå hur man skulle sätta ihop allt men överlag ett väldigt intressant projekt\n",
    "- Med canny började jag få bättre resultat. \n",
    "- Yrade dock runt en bra stund med olika parametrar hit och dit\n",
    "- Vissa av symbolerna blir duplikat av någon orsak. Längden på min contours lista blir 11 så alla utom 1 blir duplikat. Outputten endå samma fasten vissa skrivs flera gånger.\n"
   ],
   "cell_type": "markdown",
   "metadata": {}
  },
  {
   "cell_type": "code",
   "execution_count": 62,
   "metadata": {},
   "outputs": [],
   "source": []
  }
 ]
}